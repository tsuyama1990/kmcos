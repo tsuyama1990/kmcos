{
 "cells": [
  {
   "cell_type": "code",
   "execution_count": 10,
   "metadata": {},
   "outputs": [],
   "source": [
    "import numpy as np\n",
    "from ase.io import read"
   ]
  },
  {
   "cell_type": "code",
   "execution_count": 12,
   "metadata": {},
   "outputs": [
    {
     "ename": "NameError",
     "evalue": "name 'reat' is not defined",
     "output_type": "error",
     "traceback": [
      "\u001b[0;31m---------------------------------------------------------------------------\u001b[0m",
      "\u001b[0;31mNameError\u001b[0m                                 Traceback (most recent call last)",
      "\u001b[1;32m/home/tsuyama/work/001_kmc/001_test/003_Ru_local_interaction/test.ipynb Cell 2\u001b[0m line \u001b[0;36m2\n\u001b[1;32m      <a href='vscode-notebook-cell://wsl%2Bubuntu-20.04/home/tsuyama/work/001_kmc/001_test/003_Ru_local_interaction/test.ipynb#X24sdnNjb2RlLXJlbW90ZQ%3D%3D?line=0'>1</a>\u001b[0m repeat \u001b[39m=\u001b[39m [\u001b[39m4\u001b[39m,\u001b[39m4\u001b[39m,\u001b[39m4\u001b[39m]\n\u001b[0;32m----> <a href='vscode-notebook-cell://wsl%2Bubuntu-20.04/home/tsuyama/work/001_kmc/001_test/003_Ru_local_interaction/test.ipynb#X24sdnNjb2RlLXJlbW90ZQ%3D%3D?line=1'>2</a>\u001b[0m ru \u001b[39m=\u001b[39m read(\u001b[39m\"\u001b[39m\u001b[39m./Ru.cif\u001b[39m\u001b[39m\"\u001b[39m)\u001b[39m.\u001b[39mrepeat(reat)\n",
      "\u001b[0;31mNameError\u001b[0m: name 'reat' is not defined"
     ]
    }
   ],
   "source": [
    "repeat = [4,4,4]\n",
    "ru = read(\"./Ru.cif\").repeat(repe\n",
    "at)"
   ]
  },
  {
   "cell_type": "code",
   "execution_count": 6,
   "metadata": {},
   "outputs": [
    {
     "data": {
      "text/plain": [
       "array([[0.1822265 , 0.3819185 , 0.23973174],\n",
       "       [0.21267105, 0.98324275, 0.35613692],\n",
       "       [0.45291803, 0.59582492, 0.16160655],\n",
       "       [0.66209791, 0.68692153, 0.53116203],\n",
       "       [0.56372841, 0.34217198, 0.23899792],\n",
       "       [0.69435971, 0.08756639, 0.09559222],\n",
       "       [0.94176559, 0.14316992, 0.79852988]])"
      ]
     },
     "execution_count": 6,
     "metadata": {},
     "output_type": "execute_result"
    }
   ],
   "source": [
    "tmp"
   ]
  },
  {
   "cell_type": "code",
   "execution_count": 8,
   "metadata": {},
   "outputs": [
    {
     "data": {
      "text/plain": [
       "array([[0.1822265 , 0.763837  , 0.71919522],\n",
       "       [0.21267105, 1.9664855 , 1.06841077],\n",
       "       [0.45291803, 1.19164985, 0.48481965],\n",
       "       [0.66209791, 1.37384307, 1.59348609],\n",
       "       [0.56372841, 0.68434397, 0.71699377],\n",
       "       [0.69435971, 0.17513277, 0.28677666],\n",
       "       [0.94176559, 0.28633984, 2.39558965]])"
      ]
     },
     "execution_count": 8,
     "metadata": {},
     "output_type": "execute_result"
    }
   ],
   "source": [
    "tmp * [1,2,3]"
   ]
  },
  {
   "cell_type": "code",
   "execution_count": 9,
   "metadata": {},
   "outputs": [
    {
     "data": {
      "text/plain": [
       "array([[0.1822265 , 0.763837  , 0.71919522],\n",
       "       [0.21267105, 1.9664855 , 1.06841077],\n",
       "       [0.45291803, 1.19164985, 0.48481965],\n",
       "       [0.66209791, 1.37384307, 1.59348609],\n",
       "       [0.56372841, 0.68434397, 0.71699377],\n",
       "       [0.69435971, 0.17513277, 0.28677666],\n",
       "       [0.94176559, 0.28633984, 2.39558965]])"
      ]
     },
     "execution_count": 9,
     "metadata": {},
     "output_type": "execute_result"
    }
   ],
   "source": [
    "tmp * np.array([1,2,3])"
   ]
  }
 ],
 "metadata": {
  "kernelspec": {
   "display_name": "kmcos",
   "language": "python",
   "name": "python3"
  },
  "language_info": {
   "codemirror_mode": {
    "name": "ipython",
    "version": 3
   },
   "file_extension": ".py",
   "mimetype": "text/x-python",
   "name": "python",
   "nbconvert_exporter": "python",
   "pygments_lexer": "ipython3",
   "version": "3.8.10"
  }
 },
 "nbformat": 4,
 "nbformat_minor": 2
}
