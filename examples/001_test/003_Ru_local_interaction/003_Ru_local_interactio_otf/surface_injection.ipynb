{
 "cells": [
  {
   "cell_type": "code",
   "execution_count": 148,
   "metadata": {},
   "outputs": [],
   "source": [
    "from ase.io import read, write\n",
    "import numpy as np\n",
    "import pandas as pd\n",
    "from pathlib import Path\n",
    "from kmcos.run import KMC_Model\n",
    "from kmcos.view import main\n",
    "from kmcos.utils.make_superlattice_df import SuperlatticeDF\n",
    "from ase import geometry \n",
    "from tqdm import tqdm\n",
    "from kmcos.utils.surface_injection import InjectAtom\n",
    "\n",
    "repeat = [20, 20, 20]\n",
    "cell_ratio = 1\n",
    "current = Path.cwd()\n",
    "cif_path = current.parent / \"Ru.cif\"\n",
    "\n",
    "def get_kmc_original_atoms(repeat):\n",
    "    with KMC_Model(print_rates=False, banner=False) as model:\n",
    "        model.settings.simulation_size = repeat\n",
    "        atoms = model.get_atoms()\n",
    "        return atoms\n",
    "\n",
    "def make_slab(num_slab_layers, atoms):\n",
    "    z_height = geometry.get_layers(atoms=atoms, miller=(0,0,1))[1][num_slab_layers]\n",
    "    slab = atoms[atoms.get_positions()[:, 2] < z_height]\n",
    "    return slab"
   ]
  },
  {
   "cell_type": "code",
   "execution_count": 149,
   "metadata": {},
   "outputs": [
    {
     "name": "stdout",
     "output_type": "stream",
     "text": [
      "1.00 \n",
      "1.00 \n",
      "1.00 \n",
      "1.00 \n",
      "1.00 \n",
      "1.00 \n",
      "1.00 \n",
      "1.00 \n",
      "1.00 \n",
      "1.00 \n",
      "1.00 \n",
      "1.00 \n",
      "1.00 \n",
      "1.00 \n",
      "1.00 \n",
      "1.00 \n",
      "1.00 \n",
      "1.00 \n",
      "1.00 \n",
      "1.00 \n",
      "1.00 \n",
      "1.00 \n",
      "1.00 \n",
      "1.00 \n",
      "300 \n",
      "0.1 \n",
      "-0.02 \n"
     ]
    }
   ],
   "source": [
    "kmc_original_atoms = get_kmc_original_atoms(repeat)\n",
    "slab = make_slab(num_slab_layers=6, atoms=kmc_original_atoms)"
   ]
  },
  {
   "cell_type": "code",
   "execution_count": 150,
   "metadata": {},
   "outputs": [],
   "source": [
    "make_df = SuperlatticeDF(kmc_original_atoms, target_atoms=slab, repeat=repeat)\n",
    "merged = make_df.df_merge(fill_empty_with=\"empty\")\n",
    "inner_coord_table = merged[[\"x_inner\", \"y_inner\", \"z_inner\", \"inner_coord_number\"]].drop_duplicates()\n",
    "\n",
    "inject_atom = InjectAtom(slab, kmc_original_atoms, critical_angle=10)"
   ]
  },
  {
   "cell_type": "code",
   "execution_count": 151,
   "metadata": {},
   "outputs": [
    {
     "name": "stdout",
     "output_type": "stream",
     "text": [
      "[-5.39688015 20.25327065 10.68262458]\n"
     ]
    },
    {
     "data": {
      "text/plain": [
       "[2, 8, 3, 1]"
      ]
     },
     "execution_count": 151,
     "metadata": {},
     "output_type": "execute_result"
    }
   ],
   "source": [
    "attached = inject_atom.get_adatom_positions()\n",
    "inject_atom.convert_coord(attached, repeat, inner_coord_table)"
   ]
  },
  {
   "cell_type": "code",
   "execution_count": 152,
   "metadata": {},
   "outputs": [
    {
     "name": "stdout",
     "output_type": "stream",
     "text": [
      "the number of cells in total :  16000\n",
      "the number of atoms as of now :  2400\n",
      "the available cells :  13600\n"
     ]
    }
   ],
   "source": [
    "total_cell = len(kmc_original_atoms)\n",
    "current_atoms = len(slab)\n",
    "print(\"the number of cells in total : \", total_cell)\n",
    "print(\"the number of atoms as of now : \", current_atoms)\n",
    "print(\"the available cells : \", total_cell - current_atoms)\n",
    "num_of_iter = range(int((total_cell - current_atoms) / 50))"
   ]
  },
  {
   "cell_type": "code",
   "execution_count": 153,
   "metadata": {},
   "outputs": [
    {
     "name": "stdout",
     "output_type": "stream",
     "text": [
      "1.00 \n",
      "1.00 \n",
      "1.00 \n",
      "1.00 \n",
      "1.00 \n",
      "1.00 \n",
      "1.00 \n",
      "1.00 \n",
      "1.00 \n",
      "1.00 \n",
      "1.00 \n",
      "1.00 \n",
      "1.00 \n",
      "1.00 \n",
      "1.00 \n",
      "1.00 \n",
      "1.00 \n",
      "1.00 \n",
      "1.00 \n",
      "1.00 \n",
      "1.00 \n",
      "1.00 \n",
      "1.00 \n",
      "1.00 \n",
      "300 \n",
      "0.1 \n",
      "-0.02 \n",
      "1.00 \n",
      "1.00 \n",
      "1.00 \n",
      "1.00 \n",
      "1.00 \n",
      "1.00 \n",
      "1.00 \n",
      "1.00 \n",
      "1.00 \n",
      "1.00 \n",
      "1.00 \n",
      "1.00 \n",
      "1.00 \n",
      "1.00 \n",
      "1.00 \n",
      "1.00 \n",
      "1.00 \n",
      "1.00 \n",
      "1.00 \n",
      "1.00 \n",
      "1.00 \n",
      "1.00 \n",
      "1.00 \n",
      "1.00 \n",
      "300 \n",
      "0.1 \n",
      "-0.02 \n"
     ]
    },
    {
     "name": "stderr",
     "output_type": "stream",
     "text": [
      "  0%|          | 0/272 [00:00<?, ?it/s]"
     ]
    },
    {
     "name": "stdout",
     "output_type": "stream",
     "text": [
      "[12.14298034 17.91635301 10.68262458]\n",
      "[29.68284082  1.55792954 10.68262458]\n",
      "[-16.19064045  34.27477648  10.68262458]\n",
      "[ 6.74610019 27.26402356 10.68262458]\n",
      "[24.28596067 15.57943537 10.68262458]\n",
      "[ 8.09532022 10.90560009 10.68262458]\n",
      "[33.73050094 27.26402356 10.68262458]\n",
      "[16.19064045 29.6009412  10.68262458]\n",
      "[41.82582116 17.91635301 10.68262458]\n",
      "[ 6.74610019 41.2855294  10.68262458]\n"
     ]
    },
    {
     "name": "stderr",
     "output_type": "stream",
     "text": [
      "  0%|          | 1/272 [00:00<01:54,  2.37it/s]"
     ]
    },
    {
     "name": "stdout",
     "output_type": "stream",
     "text": [
      "[41.82582116  8.56868245 10.68262458]\n",
      "[16.19064045 38.94861176 10.68262458]\n",
      "[ 0.         24.92710593 10.68262458]\n",
      "[ 0.          1.55792954 10.68262458]\n",
      "[-4.04766011 31.93785884 10.68262458]\n",
      "[24.28596067 38.94861176 10.68262458]\n",
      "[43.1750412  15.57943537 10.68262458]\n",
      "[24.28596067  6.23176482 10.68262458]\n",
      "[29.68284082 20.25327065 10.68262458]\n",
      "[28.33362079  3.89484718 10.68262458]\n"
     ]
    },
    {
     "name": "stderr",
     "output_type": "stream",
     "text": [
      "  1%|          | 2/272 [00:00<01:49,  2.46it/s]"
     ]
    },
    {
     "name": "stdout",
     "output_type": "stream",
     "text": [
      "[20.23830056 36.61169412 10.68262458]\n",
      "[21.5875206   6.23176482 10.68262458]\n",
      "[-21.5875206   43.62244704  10.68262458]\n",
      "[-5.39688015 15.57943537 10.68262458]\n",
      "[ 9.44454026 22.59018829 10.68262458]\n",
      "[26.98440075  1.55792954 10.68262458]\n",
      "[-4.04766011  8.56868245 10.68262458]\n",
      "[ 2.69844007 15.57943537 10.68262458]\n",
      "[ 9.44454026 22.59018829 10.68262458]\n",
      "[ 0.         24.92710593 10.68262458]\n"
     ]
    },
    {
     "name": "stderr",
     "output_type": "stream",
     "text": [
      "  1%|          | 3/272 [00:01<01:49,  2.46it/s]"
     ]
    },
    {
     "name": "stdout",
     "output_type": "stream",
     "text": [
      "[12.14298034 45.95936468 10.68262458]\n",
      "[18.88908052 24.92710593 10.68262458]\n",
      "[ 1.34922004 27.26402356 10.68262458]\n",
      "[37.77816105 15.57943537 10.68262458]\n",
      "[43.1750412   6.23176482 10.68262458]\n",
      "[39.12738109 22.59018829 10.68262458]\n",
      "[ 9.44454026 41.2855294  10.68262458]\n",
      "[20.23830056 27.26402356 10.68262458]\n",
      "[ 9.44454026 36.61169412 10.68262458]\n",
      "[12.14298034 13.24251773 10.68262458]\n"
     ]
    },
    {
     "name": "stderr",
     "output_type": "stream",
     "text": [
      "  1%|▏         | 4/272 [00:01<01:50,  2.42it/s]"
     ]
    },
    {
     "name": "stdout",
     "output_type": "stream",
     "text": [
      "[-6.74610019 27.26402356 10.68262458]\n",
      "[29.68284082 29.6009412  10.68262458]\n",
      "[-9.44454026 36.61169412 10.68262458]\n",
      "[12.14298034 27.26402356 10.68262458]\n",
      "[18.88908052 24.92710593 10.68262458]\n",
      "[17.53986049 13.24251773 10.68262458]\n",
      "[24.28596067  1.55792954 10.68262458]\n",
      "[ 9.44454026 31.93785884 10.68262458]\n",
      "[36.42894101  3.89484718 10.68262458]\n",
      "[40.47660112  1.55792954 10.68262458]\n"
     ]
    },
    {
     "name": "stderr",
     "output_type": "stream",
     "text": [
      "  2%|▏         | 5/272 [00:02<01:52,  2.38it/s]"
     ]
    },
    {
     "name": "stdout",
     "output_type": "stream",
     "text": [
      "[45.87348127  6.23176482 10.68262458]\n",
      "[28.33362079 31.93785884 10.68262458]\n",
      "[ 1.34922004 17.91635301 10.68262458]\n",
      "[ 9.44454026 27.26402356 10.68262458]\n",
      "[ 6.74610019  8.56868245 10.68262458]\n",
      "[ 0.         38.94861176 10.68262458]\n",
      "[-8.09532022 24.92710593 10.68262458]\n",
      "[ 2.69844007  1.55792954 10.68262458]\n",
      "[32.3812809  34.27477648 10.68262458]\n",
      "[51.27036142  1.55792954 10.68262458]\n"
     ]
    },
    {
     "name": "stderr",
     "output_type": "stream",
     "text": [
      "  2%|▏         | 6/272 [00:02<01:48,  2.44it/s]"
     ]
    },
    {
     "name": "stdout",
     "output_type": "stream",
     "text": [
      "[-8.09532022 43.62244704 10.68262458]\n",
      "[ 6.74610019 17.91635301 10.68262458]\n",
      "[24.28596067 38.94861176 10.68262458]\n",
      "[-8.09532022 24.92710593 10.68262458]\n",
      "[ 9.44454026 45.95936468 10.68262458]\n",
      "[12.14298034  8.56868245 10.68262458]\n",
      "[47.22270131  3.89484718 10.68262458]\n",
      "[ 4.04766011 31.93785884 10.68262458]\n",
      "[-1.34922004 27.26402356 10.68262458]\n",
      "[ 5.39688015 38.94861176 10.68262458]\n"
     ]
    },
    {
     "name": "stderr",
     "output_type": "stream",
     "text": [
      "  3%|▎         | 7/272 [00:02<01:50,  2.39it/s]"
     ]
    },
    {
     "name": "stdout",
     "output_type": "stream",
     "text": [
      "[14.84142041  3.89484718 10.68262458]\n",
      "[29.68284082 29.6009412  10.68262458]\n",
      "[43.1750412  10.90560009 10.68262458]\n",
      "[13.49220037 34.27477648 10.68262458]\n",
      "[-10.7937603   38.94861176  10.68262458]\n",
      "[-10.7937603   24.92710593  10.68262458]\n",
      "[-12.14298034  27.26402356  10.68262458]\n",
      "[ 4.04766011 27.26402356 10.68262458]\n",
      "[51.27036142  1.55792954 10.68262458]\n",
      "[-12.14298034  41.2855294   10.68262458]\n"
     ]
    },
    {
     "name": "stderr",
     "output_type": "stream",
     "text": [
      "  3%|▎         | 8/272 [00:03<01:47,  2.45it/s]"
     ]
    },
    {
     "name": "stdout",
     "output_type": "stream",
     "text": [
      "[18.88908052 20.25327065 10.68262458]\n",
      "[36.42894101 17.91635301 10.68262458]\n",
      "[ 0.          6.23176482 10.68262458]\n",
      "[-9.44454026 41.2855294  10.68262458]\n",
      "[-13.49220037  24.92710593  10.68262458]\n",
      "[14.84142041 17.91635301 10.68262458]\n",
      "[37.77816105 20.25327065 10.68262458]\n",
      "[28.33362079 22.59018829 10.68262458]\n",
      "[32.3812809  20.25327065 10.68262458]\n",
      "[33.73050094 22.59018829 10.68262458]\n"
     ]
    },
    {
     "name": "stderr",
     "output_type": "stream",
     "text": [
      "  3%|▎         | 9/272 [00:03<01:47,  2.45it/s]"
     ]
    },
    {
     "name": "stdout",
     "output_type": "stream",
     "text": [
      "[ 6.74610019 36.61169412 10.68262458]\n",
      "[ 2.69844007 34.27477648 10.68262458]\n",
      "[28.33362079 13.24251773 10.68262458]\n",
      "[ 9.44454026  3.89484718 10.68262458]\n",
      "[22.93674064 27.26402356 10.68262458]\n",
      "[-17.53986049  41.2855294   10.68262458]\n",
      "[ 1.34922004 17.91635301 10.68262458]\n",
      "[10.7937603  43.62244704 10.68262458]\n",
      "[16.19064045 15.57943537 10.68262458]\n",
      "[-14.84142041  36.61169412  10.68262458]\n"
     ]
    },
    {
     "name": "stderr",
     "output_type": "stream",
     "text": [
      "  4%|▎         | 10/272 [00:04<01:47,  2.45it/s]"
     ]
    },
    {
     "name": "stdout",
     "output_type": "stream",
     "text": [
      "[ 5.39688015 43.62244704 10.68262458]\n",
      "[ 4.04766011 22.59018829 10.68262458]\n",
      "[14.84142041  3.89484718 10.68262458]\n",
      "[24.28596067 38.94861176 10.68262458]\n",
      "[-14.84142041  45.95936468  10.68262458]\n",
      "[29.68284082 38.94861176 10.68262458]\n",
      "[ 4.04766011  3.89484718 10.68262458]\n",
      "[-4.04766011 31.93785884 10.68262458]\n",
      "[ 6.74610019 36.61169412 10.68262458]\n",
      "[ 0.         15.57943537 10.68262458]\n"
     ]
    },
    {
     "name": "stderr",
     "output_type": "stream",
     "text": [
      "  4%|▍         | 11/272 [00:04<01:45,  2.48it/s]"
     ]
    },
    {
     "name": "stdout",
     "output_type": "stream",
     "text": [
      "[25.63518071  3.89484718 10.68262458]\n",
      "[-5.39688015 10.90560009 10.68262458]\n",
      "[ 8.09532022  1.55792954 10.68262458]\n",
      "[20.23830056 17.91635301 10.68262458]\n",
      "[32.3812809  34.27477648 10.68262458]\n",
      "[-4.04766011 36.61169412 10.68262458]\n",
      "[-10.7937603   24.92710593  10.68262458]\n",
      "[20.23830056  8.56868245 10.68262458]\n",
      "[-10.7937603   24.92710593  10.68262458]\n",
      "[ 9.44454026 27.26402356 10.68262458]\n"
     ]
    },
    {
     "name": "stderr",
     "output_type": "stream",
     "text": [
      "  4%|▍         | 12/272 [00:04<01:44,  2.50it/s]"
     ]
    },
    {
     "name": "stdout",
     "output_type": "stream",
     "text": [
      "[-12.14298034  31.93785884  10.68262458]\n",
      "[-17.53986049  36.61169412  10.68262458]\n",
      "[ 9.44454026 31.93785884 10.68262458]\n",
      "[10.7937603  24.92710593 10.68262458]\n",
      "[-2.69844007 38.94861176 10.68262458]\n",
      "[ 4.04766011 27.26402356 10.68262458]\n",
      "[16.19064045 43.62244704 10.68262458]\n",
      "[28.33362079 41.2855294  10.68262458]\n",
      "[10.7937603  15.57943537 10.68262458]\n",
      "[33.73050094 13.24251773 10.68262458]\n"
     ]
    },
    {
     "name": "stderr",
     "output_type": "stream",
     "text": [
      "  4%|▍         | 12/272 [00:05<01:53,  2.29it/s]\n"
     ]
    },
    {
     "ename": "KeyboardInterrupt",
     "evalue": "",
     "output_type": "error",
     "traceback": [
      "\u001b[0;31m---------------------------------------------------------------------------\u001b[0m",
      "\u001b[0;31mKeyboardInterrupt\u001b[0m                         Traceback (most recent call last)",
      "\u001b[1;32m/home/tsuyama/work/001_kmc/001_test/003_Ru_local_interaction/003_Ru_local_interactio_otf/surface_injection.ipynb Cell 6\u001b[0m line \u001b[0;36m1\n\u001b[1;32m     <a href='vscode-notebook-cell://wsl%2Bubuntu-20.04/home/tsuyama/work/001_kmc/001_test/003_Ru_local_interaction/003_Ru_local_interactio_otf/surface_injection.ipynb#X30sdnNjb2RlLXJlbW90ZQ%3D%3D?line=14'>15</a>\u001b[0m         model\u001b[39m.\u001b[39m_adjust_database()\n\u001b[1;32m     <a href='vscode-notebook-cell://wsl%2Bubuntu-20.04/home/tsuyama/work/001_kmc/001_test/003_Ru_local_interaction/003_Ru_local_interactio_otf/surface_injection.ipynb#X30sdnNjb2RlLXJlbW90ZQ%3D%3D?line=15'>16</a>\u001b[0m         model\u001b[39m.\u001b[39mdo_steps(\u001b[39m10_000\u001b[39m)\n\u001b[0;32m---> <a href='vscode-notebook-cell://wsl%2Bubuntu-20.04/home/tsuyama/work/001_kmc/001_test/003_Ru_local_interaction/003_Ru_local_interactio_otf/surface_injection.ipynb#X30sdnNjb2RlLXJlbW90ZQ%3D%3D?line=16'>17</a>\u001b[0m         atoms \u001b[39m=\u001b[39m model\u001b[39m.\u001b[39;49mget_atoms()\n\u001b[1;32m     <a href='vscode-notebook-cell://wsl%2Bubuntu-20.04/home/tsuyama/work/001_kmc/001_test/003_Ru_local_interaction/003_Ru_local_interactio_otf/surface_injection.ipynb#X30sdnNjb2RlLXJlbW90ZQ%3D%3D?line=17'>18</a>\u001b[0m         atoms_list\u001b[39m.\u001b[39mappend(atoms)\n\u001b[1;32m     <a href='vscode-notebook-cell://wsl%2Bubuntu-20.04/home/tsuyama/work/001_kmc/001_test/003_Ru_local_interaction/003_Ru_local_interactio_otf/surface_injection.ipynb#X30sdnNjb2RlLXJlbW90ZQ%3D%3D?line=19'>20</a>\u001b[0m \u001b[39mfor\u001b[39;00m atoms \u001b[39min\u001b[39;00m atoms_list:\n",
      "File \u001b[0;32m~/VENV/kmcos/lib/python3.8/site-packages/kmcos-1.1.0-py3.8.egg/kmcos/run/__init__.py:976\u001b[0m, in \u001b[0;36mKMC_Model.get_atoms\u001b[0;34m(self, geometry, tag, reset_time_overrun)\u001b[0m\n\u001b[1;32m    974\u001b[0m \u001b[39mfor\u001b[39;00m k \u001b[39min\u001b[39;00m \u001b[39mrange\u001b[39m(lattice\u001b[39m.\u001b[39msystem_size[\u001b[39m2\u001b[39m]):\n\u001b[1;32m    975\u001b[0m     \u001b[39mfor\u001b[39;00m n \u001b[39min\u001b[39;00m \u001b[39mrange\u001b[39m(\u001b[39m1\u001b[39m, \u001b[39m1\u001b[39m \u001b[39m+\u001b[39m lattice\u001b[39m.\u001b[39mspuck):\n\u001b[0;32m--> 976\u001b[0m         species \u001b[39m=\u001b[39m lattice\u001b[39m.\u001b[39;49mget_species([i, j, k, n])\n\u001b[1;32m    977\u001b[0m         \u001b[39mif\u001b[39;00m species \u001b[39m==\u001b[39m \u001b[39mself\u001b[39m\u001b[39m.\u001b[39mnull_species:\n\u001b[1;32m    978\u001b[0m             \u001b[39mcontinue\u001b[39;00m\n",
      "\u001b[0;31mKeyboardInterrupt\u001b[0m: "
     ]
    }
   ],
   "source": [
    "atoms_list = []\n",
    "with KMC_Model(print_rates=False, banner=False) as model:\n",
    "    model.settings.simulation_size = repeat\n",
    "    converter = {\"ru\": model.proclist.ru, \"empty\": model.proclist.empty}\n",
    "    for coord, type in zip(merged[[\"x_cell\", \"y_cell\", \"z_cell\", \"inner_coord_number\"]].values, merged[\"types_y\"]):\n",
    "        model._put(coord.tolist(), converter[type])\n",
    "    model._adjust_database()\n",
    "    model.parameters.T = 300\n",
    "    model.do_steps(100_000)\n",
    "    for iter in tqdm(num_of_iter):\n",
    "        for _ in range(10):\n",
    "            attached = inject_atom.get_adatom_positions()\n",
    "            coord = inject_atom.convert_coord(attached, repeat, inner_coord_table)\n",
    "            model._put(coord, converter[\"ru\"])\n",
    "        model._adjust_database()\n",
    "        model.do_steps(10_000)\n",
    "        atoms = model.get_atoms()\n",
    "        atoms_list.append(atoms)\n",
    "\n",
    "for atoms in atoms_list:\n",
    "    write('atoms_trajectory.xyz', atoms, append = True)"
   ]
  },
  {
   "cell_type": "code",
   "execution_count": 157,
   "metadata": {},
   "outputs": [
    {
     "data": {
      "text/plain": [
       "array([ 0.        ,  2.13652492,  4.27304983,  6.40957475,  8.54609966,\n",
       "       10.68262458, 12.81914949, 14.95567441, 17.09219933, 19.22872424,\n",
       "       21.36524916, 23.50177407, 25.63829899, 27.7748239 , 29.91134882,\n",
       "       32.04787374, 34.18439865, 36.32092357, 38.45744848, 40.5939734 ,\n",
       "       42.73049831, 44.86702323, 47.00354815, 49.14007306, 51.27659798,\n",
       "       53.41312289, 55.54964781, 57.68617272, 59.82269764, 61.95922256,\n",
       "       64.09574747, 66.23227239, 68.3687973 , 70.50532222, 72.64184713,\n",
       "       74.77837205, 76.91489697, 79.05142188, 81.1879468 , 83.32447171])"
      ]
     },
     "execution_count": 157,
     "metadata": {},
     "output_type": "execute_result"
    }
   ],
   "source": []
  },
  {
   "cell_type": "code",
   "execution_count": null,
   "metadata": {},
   "outputs": [],
   "source": []
  },
  {
   "cell_type": "code",
   "execution_count": null,
   "metadata": {},
   "outputs": [],
   "source": []
  },
  {
   "cell_type": "code",
   "execution_count": 167,
   "metadata": {},
   "outputs": [
    {
     "ename": "AxisError",
     "evalue": "axis 1 is out of bounds for array of dimension 1",
     "output_type": "error",
     "traceback": [
      "\u001b[0;31m---------------------------------------------------------------------------\u001b[0m",
      "\u001b[0;31mAxisError\u001b[0m                                 Traceback (most recent call last)",
      "\u001b[1;32m/home/tsuyama/work/001_kmc/001_test/003_Ru_local_interaction/003_Ru_local_interactio_otf/surface_injection.ipynb Cell 8\u001b[0m line \u001b[0;36m1\n\u001b[0;32m----> <a href='vscode-notebook-cell://wsl%2Bubuntu-20.04/home/tsuyama/work/001_kmc/001_test/003_Ru_local_interaction/003_Ru_local_interactio_otf/surface_injection.ipynb#X51sdnNjb2RlLXJlbW90ZQ%3D%3D?line=0'>1</a>\u001b[0m np\u001b[39m.\u001b[39;49mlinalg\u001b[39m.\u001b[39;49mnorm(slab\u001b[39m.\u001b[39;49mget_positions()[:, \u001b[39m2\u001b[39;49m], axis\u001b[39m=\u001b[39;49m\u001b[39m1\u001b[39;49m)\n",
      "File \u001b[0;32m<__array_function__ internals>:200\u001b[0m, in \u001b[0;36mnorm\u001b[0;34m(*args, **kwargs)\u001b[0m\n",
      "File \u001b[0;32m~/VENV/kmcos/lib/python3.8/site-packages/numpy/linalg/linalg.py:2542\u001b[0m, in \u001b[0;36mnorm\u001b[0;34m(x, ord, axis, keepdims)\u001b[0m\n\u001b[1;32m   2539\u001b[0m \u001b[39melif\u001b[39;00m \u001b[39mord\u001b[39m \u001b[39mis\u001b[39;00m \u001b[39mNone\u001b[39;00m \u001b[39mor\u001b[39;00m \u001b[39mord\u001b[39m \u001b[39m==\u001b[39m \u001b[39m2\u001b[39m:\n\u001b[1;32m   2540\u001b[0m     \u001b[39m# special case for speedup\u001b[39;00m\n\u001b[1;32m   2541\u001b[0m     s \u001b[39m=\u001b[39m (x\u001b[39m.\u001b[39mconj() \u001b[39m*\u001b[39m x)\u001b[39m.\u001b[39mreal\n\u001b[0;32m-> 2542\u001b[0m     \u001b[39mreturn\u001b[39;00m sqrt(add\u001b[39m.\u001b[39;49mreduce(s, axis\u001b[39m=\u001b[39;49maxis, keepdims\u001b[39m=\u001b[39;49mkeepdims))\n\u001b[1;32m   2543\u001b[0m \u001b[39m# None of the str-type keywords for ord ('fro', 'nuc')\u001b[39;00m\n\u001b[1;32m   2544\u001b[0m \u001b[39m# are valid for vectors\u001b[39;00m\n\u001b[1;32m   2545\u001b[0m \u001b[39melif\u001b[39;00m \u001b[39misinstance\u001b[39m(\u001b[39mord\u001b[39m, \u001b[39mstr\u001b[39m):\n",
      "\u001b[0;31mAxisError\u001b[0m: axis 1 is out of bounds for array of dimension 1"
     ]
    }
   ],
   "source": [
    "np.(slab.get_positions()[:, 2] - geometry.get_layers(slab, miller=[0,0,1])[1][2], axis=1) < 0.1"
   ]
  },
  {
   "cell_type": "code",
   "execution_count": 163,
   "metadata": {},
   "outputs": [
    {
     "ename": "TypeError",
     "evalue": "len() of unsized object",
     "output_type": "error",
     "traceback": [
      "\u001b[0;31m---------------------------------------------------------------------------\u001b[0m",
      "\u001b[0;31mTypeError\u001b[0m                                 Traceback (most recent call last)",
      "\u001b[1;32m/home/tsuyama/work/001_kmc/001_test/003_Ru_local_interaction/003_Ru_local_interactio_otf/surface_injection.ipynb Cell 8\u001b[0m line \u001b[0;36m1\n\u001b[0;32m----> <a href='vscode-notebook-cell://wsl%2Bubuntu-20.04/home/tsuyama/work/001_kmc/001_test/003_Ru_local_interaction/003_Ru_local_interactio_otf/surface_injection.ipynb#X16sdnNjb2RlLXJlbW90ZQ%3D%3D?line=0'>1</a>\u001b[0m slab[np\u001b[39m.\u001b[39;49mlinalg\u001b[39m.\u001b[39;49mnorm(slab\u001b[39m.\u001b[39;49mget_positions()[:, \u001b[39m2\u001b[39;49m] \u001b[39m-\u001b[39;49m geometry\u001b[39m.\u001b[39;49mget_layers(slab, miller\u001b[39m=\u001b[39;49m[\u001b[39m0\u001b[39;49m,\u001b[39m0\u001b[39;49m,\u001b[39m1\u001b[39;49m])[\u001b[39m1\u001b[39;49m][\u001b[39m2\u001b[39;49m]) \u001b[39m<\u001b[39;49m \u001b[39m0.1\u001b[39;49m]\n",
      "File \u001b[0;32m~/VENV/kmcos/lib/python3.8/site-packages/ase/atoms.py:1099\u001b[0m, in \u001b[0;36mAtoms.__getitem__\u001b[0;34m(self, i)\u001b[0m\n\u001b[1;32m   1097\u001b[0m \u001b[39m# if i is a mask\u001b[39;00m\n\u001b[1;32m   1098\u001b[0m \u001b[39mif\u001b[39;00m i\u001b[39m.\u001b[39mdtype \u001b[39m==\u001b[39m \u001b[39mbool\u001b[39m:\n\u001b[0;32m-> 1099\u001b[0m     \u001b[39mif\u001b[39;00m \u001b[39mlen\u001b[39;49m(i) \u001b[39m!=\u001b[39m \u001b[39mlen\u001b[39m(\u001b[39mself\u001b[39m):\n\u001b[1;32m   1100\u001b[0m         \u001b[39mraise\u001b[39;00m \u001b[39mIndexError\u001b[39;00m(\u001b[39m'\u001b[39m\u001b[39mLength of mask \u001b[39m\u001b[39m{}\u001b[39;00m\u001b[39m must equal \u001b[39m\u001b[39m'\u001b[39m\n\u001b[1;32m   1101\u001b[0m                          \u001b[39m'\u001b[39m\u001b[39mnumber of atoms \u001b[39m\u001b[39m{}\u001b[39;00m\u001b[39m'\u001b[39m\n\u001b[1;32m   1102\u001b[0m                          \u001b[39m.\u001b[39mformat(\u001b[39mlen\u001b[39m(i), \u001b[39mlen\u001b[39m(\u001b[39mself\u001b[39m)))\n\u001b[1;32m   1103\u001b[0m     i \u001b[39m=\u001b[39m np\u001b[39m.\u001b[39marange(\u001b[39mlen\u001b[39m(\u001b[39mself\u001b[39m))[i]\n",
      "\u001b[0;31mTypeError\u001b[0m: len() of unsized object"
     ]
    }
   ],
   "source": [
    "slab[]"
   ]
  },
  {
   "cell_type": "code",
   "execution_count": 161,
   "metadata": {},
   "outputs": [
    {
     "data": {
      "text/plain": [
       "4.27304983139038"
      ]
     },
     "execution_count": 161,
     "metadata": {},
     "output_type": "execute_result"
    }
   ],
   "source": [
    "geometry.get_layers(slab, miller=[0,0,1])[1][2]"
   ]
  },
  {
   "cell_type": "code",
   "execution_count": 493,
   "metadata": {},
   "outputs": [
    {
     "name": "stdout",
     "output_type": "stream",
     "text": [
      "1.00 \n",
      "1.00 \n",
      "1.00 \n",
      "1.00 \n",
      "1.00 \n",
      "1.00 \n",
      "1.00 \n",
      "1.00 \n",
      "1.00 \n",
      "1.00 \n",
      "1.00 \n",
      "1.00 \n",
      "1.00 \n",
      "1.00 \n",
      "1.00 \n",
      "1.00 \n",
      "1.00 \n",
      "1.00 \n",
      "1.00 \n",
      "1.00 \n",
      "1.00 \n",
      "1.00 \n",
      "1.00 \n",
      "1.00 \n",
      "1600 \n",
      "0.1 \n",
      "-0.02 \n",
      "1.00 \n",
      "1.00 \n",
      "1.00 \n",
      "1.00 \n",
      "1.00 \n",
      "1.00 \n",
      "1.00 \n",
      "1.00 \n",
      "1.00 \n",
      "1.00 \n",
      "1.00 \n",
      "1.00 \n",
      "1.00 \n",
      "1.00 \n",
      "1.00 \n",
      "1.00 \n",
      "1.00 \n",
      "1.00 \n",
      "1.00 \n",
      "1.00 \n",
      "1.00 \n",
      "1.00 \n",
      "1.00 \n",
      "1.00 \n",
      "1600 \n",
      "0.1 \n",
      "-0.02 \n"
     ]
    }
   ],
   "source": [
    "adatom_number = np.arange(0, 600, 1)\n",
    "atoms_list = []\n",
    "with KMC_Model(print_rates=False, banner=False) as model:\n",
    "    model.settings.simulation_size = repeat\n",
    "    converter = {\"ru\": model.proclist.ru, \"empty\": model.proclist.empty}\n",
    "    for coord, type in zip(merged[[\"x_cell\", \"y_cell\", \"z_cell\", \"inner_coord_number\"]].values, merged[\"types_y\"]):\n",
    "        model._put(coord.tolist(), converter[type])\n",
    "    model._adjust_database()\n",
    "    model.parameters.T = 1600\n",
    "    model.do_steps(100_000)\n",
    "    atom = model.get_atoms()"
   ]
  },
  {
   "cell_type": "code",
   "execution_count": 8,
   "metadata": {},
   "outputs": [
    {
     "ename": "NameError",
     "evalue": "name 'InjectAtom' is not defined",
     "output_type": "error",
     "traceback": [
      "\u001b[0;31m---------------------------------------------------------------------------\u001b[0m",
      "\u001b[0;31mNameError\u001b[0m                                 Traceback (most recent call last)",
      "\u001b[1;32m/home/tsuyama/work/001_kmc/001_test/003_Ru_local_interaction/003_Ru_local_interactio_otf/surface_injection.ipynb Cell 7\u001b[0m line \u001b[0;36m1\n\u001b[0;32m----> <a href='vscode-notebook-cell://wsl%2Bubuntu-20.04/home/tsuyama/work/001_kmc/001_test/003_Ru_local_interaction/003_Ru_local_interactio_otf/surface_injection.ipynb#X12sdnNjb2RlLXJlbW90ZQ%3D%3D?line=0'>1</a>\u001b[0m inject_atom \u001b[39m=\u001b[39m InjectAtom(slab, kmc_original_atoms, critical_angle\u001b[39m=\u001b[39m\u001b[39m10\u001b[39m)\n\u001b[1;32m      <a href='vscode-notebook-cell://wsl%2Bubuntu-20.04/home/tsuyama/work/001_kmc/001_test/003_Ru_local_interaction/003_Ru_local_interactio_otf/surface_injection.ipynb#X12sdnNjb2RlLXJlbW90ZQ%3D%3D?line=1'>2</a>\u001b[0m attached \u001b[39m=\u001b[39m inject_atom\u001b[39m.\u001b[39mget_adatom_positions()\n\u001b[1;32m      <a href='vscode-notebook-cell://wsl%2Bubuntu-20.04/home/tsuyama/work/001_kmc/001_test/003_Ru_local_interaction/003_Ru_local_interactio_otf/surface_injection.ipynb#X12sdnNjb2RlLXJlbW90ZQ%3D%3D?line=2'>3</a>\u001b[0m inner_coord_table \u001b[39m=\u001b[39m merged[[\u001b[39m\"\u001b[39m\u001b[39mx_inner\u001b[39m\u001b[39m\"\u001b[39m, \u001b[39m\"\u001b[39m\u001b[39my_inner\u001b[39m\u001b[39m\"\u001b[39m, \u001b[39m\"\u001b[39m\u001b[39mz_inner\u001b[39m\u001b[39m\"\u001b[39m, \u001b[39m\"\u001b[39m\u001b[39minner_coord_number\u001b[39m\u001b[39m\"\u001b[39m]]\u001b[39m.\u001b[39mdrop_duplicates()\n",
      "\u001b[0;31mNameError\u001b[0m: name 'InjectAtom' is not defined"
     ]
    }
   ],
   "source": [
    "inject_atom = InjectAtom(slab, kmc_original_atoms, critical_angle=10)\n",
    "attached = inject_atom.get_adatom_positions()\n",
    "inner_coord_table = merged[[\"x_inner\", \"y_inner\", \"z_inner\", \"inner_coord_number\"]].drop_duplicates()\n",
    "inject_atom.convert_coord(attached, repeat, inner_coord_table)\n"
   ]
  },
  {
   "cell_type": "code",
   "execution_count": null,
   "metadata": {},
   "outputs": [],
   "source": []
  }
 ],
 "metadata": {
  "kernelspec": {
   "display_name": "kmcos",
   "language": "python",
   "name": "python3"
  },
  "language_info": {
   "codemirror_mode": {
    "name": "ipython",
    "version": 3
   },
   "file_extension": ".py",
   "mimetype": "text/x-python",
   "name": "python",
   "nbconvert_exporter": "python",
   "pygments_lexer": "ipython3",
   "version": "3.8.10"
  }
 },
 "nbformat": 4,
 "nbformat_minor": 2
}
