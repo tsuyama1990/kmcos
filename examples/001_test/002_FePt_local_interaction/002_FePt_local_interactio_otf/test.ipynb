{
 "cells": [
  {
   "cell_type": "code",
   "execution_count": 6,
   "metadata": {},
   "outputs": [
    {
     "name": "stdout",
     "output_type": "stream",
     "text": [
      "1.00 \n",
      "1.00 \n",
      "1.00 \n",
      "1.00 \n",
      "1.00 \n",
      "1.00 \n",
      "1.00 \n",
      "1.00 \n",
      "1.00 \n",
      "1.00 \n",
      "1.00 \n",
      "1.00 \n",
      "0.0465 \n",
      "-0.0093 \n",
      "1500 \n"
     ]
    }
   ],
   "source": [
    "import ase\n",
    "from ase.io import read, write\n",
    "import numpy as np\n",
    "import pandas as pd\n",
    "from pathlib import Path\n",
    "from ase.io.trajectory import Trajectory\n",
    "\n",
    "repeat = 20\n",
    "cell_ratio = 1/2\n",
    "\n",
    "from kmcos.run import KMC_Model\n",
    "from kmcos.view import main\n",
    "\n",
    "\n",
    "with KMC_Model(print_rates=False, banner=False) as model:\n",
    "    model.settings.simulation_size = repeat\n",
    "    atoms = model.get_atoms()"
   ]
  },
  {
   "cell_type": "code",
   "execution_count": 2,
   "metadata": {},
   "outputs": [
    {
     "data": {
      "text/plain": [
       "array([1, 2, 3, 4])"
      ]
     },
     "execution_count": 2,
     "metadata": {},
     "output_type": "execute_result"
    }
   ],
   "source": [
    "np.array([1, 2,3 ,4 ])"
   ]
  },
  {
   "cell_type": "markdown",
   "metadata": {},
   "source": []
  },
  {
   "cell_type": "code",
   "execution_count": 3,
   "metadata": {},
   "outputs": [
    {
     "data": {
      "text/plain": [
       "array([1600, 1599, 1598, 1597, 1596, 1595, 1594, 1593, 1592, 1591, 1590,\n",
       "       1589, 1588, 1587, 1586, 1585, 1584, 1583, 1582, 1581, 1580, 1579,\n",
       "       1578, 1577, 1576, 1575, 1574, 1573, 1572, 1571, 1570, 1569, 1568,\n",
       "       1567, 1566, 1565, 1564, 1563, 1562, 1561, 1560, 1559, 1558, 1557,\n",
       "       1556, 1555, 1554, 1553, 1552, 1551, 1550, 1549, 1548, 1547, 1546,\n",
       "       1545, 1544, 1543, 1542, 1541, 1540, 1539, 1538, 1537, 1536, 1535,\n",
       "       1534, 1533, 1532, 1531, 1530, 1529, 1528, 1527, 1526, 1525, 1524,\n",
       "       1523, 1522, 1521, 1520, 1519, 1518, 1517, 1516, 1515, 1514, 1513,\n",
       "       1512, 1511, 1510, 1509, 1508, 1507, 1506, 1505, 1504, 1503, 1502,\n",
       "       1501])"
      ]
     },
     "execution_count": 3,
     "metadata": {},
     "output_type": "execute_result"
    }
   ],
   "source": [
    "np.arange(1600, 1500, -1)"
   ]
  },
  {
   "cell_type": "code",
   "execution_count": null,
   "metadata": {},
   "outputs": [],
   "source": []
  }
 ],
 "metadata": {
  "kernelspec": {
   "display_name": "kmcos",
   "language": "python",
   "name": "python3"
  },
  "language_info": {
   "codemirror_mode": {
    "name": "ipython",
    "version": 3
   },
   "file_extension": ".py",
   "mimetype": "text/x-python",
   "name": "python",
   "nbconvert_exporter": "python",
   "pygments_lexer": "ipython3",
   "version": "3.8.10"
  }
 },
 "nbformat": 4,
 "nbformat_minor": 2
}
