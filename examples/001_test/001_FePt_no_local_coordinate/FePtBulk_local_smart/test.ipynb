{
 "cells": [
  {
   "cell_type": "code",
   "execution_count": 1,
   "metadata": {},
   "outputs": [],
   "source": [
    "import ase\n",
    "from ase.io import read, write\n",
    "import numpy as np\n",
    "import pandas as pd"
   ]
  },
  {
   "cell_type": "code",
   "execution_count": 2,
   "metadata": {},
   "outputs": [],
   "source": [
    "repeat = 20\n",
    "cell_ratio = 1/2"
   ]
  },
  {
   "cell_type": "code",
   "execution_count": 5,
   "metadata": {},
   "outputs": [],
   "source": [
    "from kmcos.run import KMC_Model\n",
    "from kmcos.view import main\n",
    "\n",
    "\n",
    "with KMC_Model(print_rates=False, banner=False) as model:\n",
    "    model.settings.simulation_size = repeat\n",
    "    atoms = model.get_atoms()\n",
    "    #converter = {\"fe\": model.proclist.fe, \"empty\": model.proclist.empty, \"pt\": model.proclist.pt}\n",
    "    #for coord, type in zip(merged[[\"x_cell\", \"y_cell\", \"z_cell\", \"inner_coord_number\"]].values, merged[\"types_y\"]):\n",
    "    #    model._put(coord.tolist(), converter[type])\n",
    "    #model._adjust_database()\n",
    "    #model.do_steps(0)\n",
    "    #aft_atoms = model.get_atoms()\n",
    "  #print(model.proclist.__dir__())"
   ]
  },
  {
   "cell_type": "code",
   "execution_count": 7,
   "metadata": {},
   "outputs": [],
   "source": [
    "fept = read(\"./../FePt.cif\")"
   ]
  },
  {
   "cell_type": "code",
   "execution_count": 9,
   "metadata": {},
   "outputs": [],
   "source": [
    "target_repeat = np.array([repeat] * 3) * cell_ratio\n",
    "target_atoms = fept.repeat(target_repeat.astype(int))"
   ]
  },
  {
   "cell_type": "code",
   "execution_count": 108,
   "metadata": {},
   "outputs": [],
   "source": [
    "def inner_coord_number(df, i):\n",
    "    # TODO Tomo need to change to lattice site name\n",
    "    df[\"inner_coord_number\"] = i\n",
    "    return df\n",
    "\n",
    "def make_dataframe(atoms, repeat):\n",
    "    tmp = atoms.get_scaled_positions() * repeat\n",
    "    tmp_cell = np.round(tmp - 0.4, 0) #round 0.9 - 1.9 to 1\n",
    "    tmp_internal = np.round(tmp - tmp_cell,3) # getinternal displacement\n",
    "    df = pd.DataFrame(np.concatenate([tmp_cell,\n",
    "                                      tmp_internal],\n",
    "                                      axis=1),\n",
    "                        columns=[f\"{i}_{j}\" for j in [\"cell\", \"inner\"] for i in list(\"xyz\")])\n",
    "    \n",
    "    df[[\"x_cell\", \"y_cell\", \"z_cell\"]] = df[[\"x_cell\", \"y_cell\", \"z_cell\"]].applymap(lambda x : int(x))\n",
    "    #df[[\"x_inner\", \"y_inner\", \"z_inner\"]] = df[[\"x_inner\", \"y_inner\", \"z_inner\"]].applymap(lambda x : round(x, 4))\n",
    "    df[\"types\"] = atoms.symbols\n",
    "    df[\"types\"] = df[\"types\"].map(lambda x : x.lower())\n",
    "\n",
    "    box = []\n",
    "    k = 1\n",
    "    for i, j in df.groupby(by = [\"x_inner\", \"y_inner\", \"z_inner\"\n",
    "                                 ]):\n",
    "        tmp_df = inner_coord_number(j, k)\n",
    "        box.append(tmp_df)\n",
    "        k += 1\n",
    "    df = pd.concat(box)\n",
    "\n",
    "    return df"
   ]
  },
  {
   "cell_type": "code",
   "execution_count": 109,
   "metadata": {},
   "outputs": [],
   "source": [
    "df_model = make_dataframe(atoms, repeat)\n",
    "df_target = make_dataframe(target_atoms, repeat)\n",
    "merged = pd.merge(df_model, df_target, on=[\"x_cell\", \"y_cell\", \"z_cell\", \"x_inner\", \"y_inner\", \"z_inner\", \"inner_coord_number\"], how=\"left\")\n",
    "#merged = pd.merge(df_model, df_target, on=[\"x_cell\", \"y_cell\", \"z_cell\"], how=\"left\")\n",
    "merged[\"types_y\"].fillna(\"empty\", inplace=True)"
   ]
  },
  {
   "cell_type": "code",
   "execution_count": 112,
   "metadata": {},
   "outputs": [],
   "source": [
    "from kmcos.run import KMC_Model\n",
    "from kmcos.view import main\n",
    "\n",
    "\n",
    "with KMC_Model(print_rates=False, banner=False) as model:\n",
    "    model.settings.simulation_size = repeat\n",
    "    atoms = model.get_atoms()\n",
    "    converter = {\"fe\": model.proclist.fe, \"empty\": model.proclist.empty, \"pt\": model.proclist.pt}\n",
    "    for coord, type in zip(merged[[\"x_cell\", \"y_cell\", \"z_cell\", \"inner_coord_number\"]].values, merged[\"types_y\"]):\n",
    "        model._put(coord.tolist(), converter[type])\n",
    "    model._adjust_database()\n",
    "    model.do_steps(1_000_000)\n",
    "    aft_atoms = model.get_atoms()"
   ]
  },
  {
   "cell_type": "code",
   "execution_count": 113,
   "metadata": {},
   "outputs": [],
   "source": [
    "write(\"./test.xyz\", aft_atoms)"
   ]
  }
 ],
 "metadata": {
  "kernelspec": {
   "display_name": "kmcos",
   "language": "python",
   "name": "python3"
  },
  "language_info": {
   "codemirror_mode": {
    "name": "ipython",
    "version": 3
   },
   "file_extension": ".py",
   "mimetype": "text/x-python",
   "name": "python",
   "nbconvert_exporter": "python",
   "pygments_lexer": "ipython3",
   "version": "3.8.10"
  }
 },
 "nbformat": 4,
 "nbformat_minor": 2
}
